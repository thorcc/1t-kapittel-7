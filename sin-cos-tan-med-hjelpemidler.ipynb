{
 "cells": [
  {
   "cell_type": "markdown",
   "metadata": {},
   "source": [
    "# 7C - Tangens, sinus og cosinus\n",
    "\n",
    "![](./bilder/1-sin-cos-tan.png)"
   ]
  },
  {
   "cell_type": "markdown",
   "metadata": {},
   "source": [
    "## Digitale hjelpemidler\n",
    "\n",
    "---\n",
    "\n",
    "### Geogebra\n",
    "\n",
    "> Finne sin, cos eller tan fra vinkel\n",
    "\n",
    "![](./bilder/2-geo-tan-sin-cos.png)\n",
    "\n",
    "---\n",
    "\n",
    "> Finne vinkel fra sin, cos eller tan\n",
    "\n",
    "![](./bilder/4-finne-vinkel.png)\n",
    "\n",
    "---\n",
    "\n",
    "> Finne ukjenter sider\n",
    "\n",
    "Ved å bruke `x≈` kan vi sette opp en ligning, og finne ukjente sider i Geogebra (s. 320):\n",
    "\n",
    "![](./bilder/3-nlos-sin-cos-2.png)\n",
    "\n",
    "---"
   ]
  },
  {
   "cell_type": "markdown",
   "metadata": {},
   "source": [
    "### Python\n",
    "\n",
    "> Finne sinus, cosinus og tangens til en vinkel:"
   ]
  },
  {
   "cell_type": "code",
   "execution_count": 4,
   "metadata": {},
   "outputs": [
    {
     "name": "stdout",
     "output_type": "stream",
     "text": [
      "sinus til 60 er 0.8660254037844386\n",
      "cosinus til 60 er 0.5000000000000001\n",
      "tangens til 60 er 1.7320508075688767\n"
     ]
    }
   ],
   "source": [
    "import math   # importerer matte-biblioteket\n",
    "\n",
    "vinkel = 60   # definerer en vinkel i grader (bytt denne!)\n",
    "\n",
    "# python bruker radianer for vinkelmål, må derfor konvertere til radianer (mer om dette i R1)\n",
    "vinkel_i_radianer = math.radians(vinkel)\n",
    "\n",
    "# regner ut sin, cos og tan til vinkelen\n",
    "sin_vinkel = math.sin(vinkel_i_radianer)\n",
    "cos_vinkel = math.cos(vinkel_i_radianer)\n",
    "tan_vinkel = math.tan(vinkel_i_radianer)\n",
    "\n",
    "print(f\"sinus til {vinkel} er {sin_vinkel}\")\n",
    "print(f\"cosinus til {vinkel} er {cos_vinkel}\")\n",
    "print(f\"tangens til {vinkel} er {tan_vinkel}\")\n"
   ]
  },
  {
   "cell_type": "markdown",
   "metadata": {},
   "source": [
    "---\n",
    "\n",
    "> Finne vinkelen når vi vet sinus, cosinus eller tangens:"
   ]
  },
  {
   "cell_type": "code",
   "execution_count": 6,
   "metadata": {},
   "outputs": [
    {
     "name": "stdout",
     "output_type": "stream",
     "text": [
      "Vinkelen er 45.0 grader\n"
     ]
    }
   ],
   "source": [
    "import math   # importerer matte-biblioteket\n",
    "\n",
    "hosliggende = math.sqrt(2)\n",
    "hypotenus = 2\n",
    "\n",
    "cos = hosliggende / hypotenus   # regner ut cos\n",
    "\n",
    "# bruker acos for å regne ut vinkelen (i radianer)\n",
    "vinkel_i_radianer = math.acos(cos)\n",
    "\n",
    "# konverterer til grader\n",
    "vinkel = math.degrees(vinkel_i_radianer)\n",
    "\n",
    "print(f\"Vinkelen er {vinkel} grader\")"
   ]
  },
  {
   "cell_type": "markdown",
   "metadata": {},
   "source": [
    "### Oppgave\n",
    "\n",
    "Kopier koden over inn i cellene under, og endre koden slik at du også kan finne vinkler med `asin` og `atan`."
   ]
  },
  {
   "cell_type": "code",
   "execution_count": null,
   "metadata": {},
   "outputs": [],
   "source": [
    "# sinus"
   ]
  },
  {
   "cell_type": "code",
   "execution_count": null,
   "metadata": {},
   "outputs": [],
   "source": [
    "# tan"
   ]
  }
 ],
 "metadata": {
  "kernelspec": {
   "display_name": "Python 3",
   "language": "python",
   "name": "python3"
  },
  "language_info": {
   "codemirror_mode": {
    "name": "ipython",
    "version": 3
   },
   "file_extension": ".py",
   "mimetype": "text/x-python",
   "name": "python",
   "nbconvert_exporter": "python",
   "pygments_lexer": "ipython3",
   "version": "3.12.5"
  }
 },
 "nbformat": 4,
 "nbformat_minor": 2
}
